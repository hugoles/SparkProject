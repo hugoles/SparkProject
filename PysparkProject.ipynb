{
  "cells": [
    {
      "cell_type": "markdown",
      "source": [
        "# **Resumo do Projeto: Apache Spark para ETL e Construção de Data Warehouse**\n",
        "\n",
        "O projeto em questão utiliza Apache Spark no ambiente Google Colab para realizar o processo de ETL (Extração, Transformação e Carga) de dados, com o objetivo final de construir um robusto Data Warehouse. O Apache Spark é uma ferramenta de processamento de dados distribuído que oferece eficiência e escalabilidade, tornando-o ideal para manipulação de grandes conjuntos de dados.\n",
        "\n",
        "## **Objetivo do Projeto**\n",
        "\n",
        "O propósito principal deste projeto é realizar a seguinte sequência de operações:\n",
        "\n",
        "1. **Extração de Dados:** Coletar dados brutos de diversas fontes, seja de arquivos, bancos de dados ou outras origens, utilizando as capacidades de processamento paralelo do Apache Spark.\n",
        "\n",
        "2. **Transformação de Dados:** Aplicar operações de transformação nos dados extraídos para prepará-los para análise. Isso inclui limpeza, formatação, agregação e outras manipulações necessárias.\n",
        "\n",
        "3. **Carga dos Dados Tratados:** Armazenar os dados tratados em um formato otimizado para consulta, como um Data Warehouse. O Apache Spark facilita a eficiência de gravação dos dados processados em sistemas de armazenamento apropriados.\n",
        "\n",
        "## **Benefícios do Uso do Apache Spark no Colab**\n",
        "\n",
        "O ambiente Google Colab proporciona uma infraestrutura eficiente para execução do Apache Spark, permitindo explorar e manipular grandes volumes de dados de forma interativa. A combinação dessas tecnologias oferece os seguintes benefícios:\n",
        "\n",
        "- **Escalabilidade:** O Apache Spark distribui o processamento de dados de maneira eficiente, lidando com grandes volumes de dados de forma escalável.\n",
        "\n",
        "- **Integração com Ferramentas Analíticas:** Os dados tratados podem ser facilmente integrados com ferramentas analíticas e de visualização, proporcionando insights valiosos para tomada de decisões.\n",
        "\n",
        "- **Flexibilidade:** O Colab permite uma rápida prototipagem e experimentação, enquanto o Apache Spark oferece a flexibilidade necessária para lidar com diferentes fontes e tipos de dados.\n",
        "\n",
        "- **Eficiência no Processamento:** A capacidade de processamento paralelo do Apache Spark acelera o tempo de execução das tarefas, otimizando o desempenho do ETL.\n",
        "\n"
      ],
      "metadata": {
        "id": "TVAUlgK8sMpc"
      }
    },
    {
      "cell_type": "markdown",
      "source": [
        "# Configuração de ambiente (conecte o Gmail e Kaggle account)"
      ],
      "metadata": {
        "id": "Ls0Y1mSksNGX"
      }
    },
    {
      "cell_type": "markdown",
      "metadata": {
        "id": "JciXyCepn0HV"
      },
      "source": [
        "Connect to drive\n"
      ]
    },
    {
      "cell_type": "code",
      "execution_count": null,
      "metadata": {
        "colab": {
          "base_uri": "https://localhost:8080/"
        },
        "id": "-TGMNb8OPloQ",
        "outputId": "fbe4143c-ae1f-4e4a-9016-9d21f58a6ca7"
      },
      "outputs": [
        {
          "output_type": "stream",
          "name": "stdout",
          "text": [
            "Mounted at /content/drive\n"
          ]
        }
      ],
      "source": [
        "from google.colab import drive\n",
        "drive.mount('/content/drive')"
      ]
    },
    {
      "cell_type": "markdown",
      "metadata": {
        "id": "hSWXqxlSn3Ie"
      },
      "source": [
        "Catch Kaggle Key\n",
        "\n",
        "--- baixar kaggle json"
      ]
    },
    {
      "cell_type": "code",
      "execution_count": null,
      "metadata": {
        "colab": {
          "base_uri": "https://localhost:8080/",
          "height": 88
        },
        "id": "RW6BKIqTQa-k",
        "outputId": "bdac296a-d188-4cce-adc1-d4e74c498f64"
      },
      "outputs": [
        {
          "output_type": "display_data",
          "data": {
            "text/plain": [
              "<IPython.core.display.HTML object>"
            ],
            "text/html": [
              "\n",
              "     <input type=\"file\" id=\"files-c3862a8d-ba43-4b60-ba9c-73099921aff0\" name=\"files[]\" multiple disabled\n",
              "        style=\"border:none\" />\n",
              "     <output id=\"result-c3862a8d-ba43-4b60-ba9c-73099921aff0\">\n",
              "      Upload widget is only available when the cell has been executed in the\n",
              "      current browser session. Please rerun this cell to enable.\n",
              "      </output>\n",
              "      <script>// Copyright 2017 Google LLC\n",
              "//\n",
              "// Licensed under the Apache License, Version 2.0 (the \"License\");\n",
              "// you may not use this file except in compliance with the License.\n",
              "// You may obtain a copy of the License at\n",
              "//\n",
              "//      http://www.apache.org/licenses/LICENSE-2.0\n",
              "//\n",
              "// Unless required by applicable law or agreed to in writing, software\n",
              "// distributed under the License is distributed on an \"AS IS\" BASIS,\n",
              "// WITHOUT WARRANTIES OR CONDITIONS OF ANY KIND, either express or implied.\n",
              "// See the License for the specific language governing permissions and\n",
              "// limitations under the License.\n",
              "\n",
              "/**\n",
              " * @fileoverview Helpers for google.colab Python module.\n",
              " */\n",
              "(function(scope) {\n",
              "function span(text, styleAttributes = {}) {\n",
              "  const element = document.createElement('span');\n",
              "  element.textContent = text;\n",
              "  for (const key of Object.keys(styleAttributes)) {\n",
              "    element.style[key] = styleAttributes[key];\n",
              "  }\n",
              "  return element;\n",
              "}\n",
              "\n",
              "// Max number of bytes which will be uploaded at a time.\n",
              "const MAX_PAYLOAD_SIZE = 100 * 1024;\n",
              "\n",
              "function _uploadFiles(inputId, outputId) {\n",
              "  const steps = uploadFilesStep(inputId, outputId);\n",
              "  const outputElement = document.getElementById(outputId);\n",
              "  // Cache steps on the outputElement to make it available for the next call\n",
              "  // to uploadFilesContinue from Python.\n",
              "  outputElement.steps = steps;\n",
              "\n",
              "  return _uploadFilesContinue(outputId);\n",
              "}\n",
              "\n",
              "// This is roughly an async generator (not supported in the browser yet),\n",
              "// where there are multiple asynchronous steps and the Python side is going\n",
              "// to poll for completion of each step.\n",
              "// This uses a Promise to block the python side on completion of each step,\n",
              "// then passes the result of the previous step as the input to the next step.\n",
              "function _uploadFilesContinue(outputId) {\n",
              "  const outputElement = document.getElementById(outputId);\n",
              "  const steps = outputElement.steps;\n",
              "\n",
              "  const next = steps.next(outputElement.lastPromiseValue);\n",
              "  return Promise.resolve(next.value.promise).then((value) => {\n",
              "    // Cache the last promise value to make it available to the next\n",
              "    // step of the generator.\n",
              "    outputElement.lastPromiseValue = value;\n",
              "    return next.value.response;\n",
              "  });\n",
              "}\n",
              "\n",
              "/**\n",
              " * Generator function which is called between each async step of the upload\n",
              " * process.\n",
              " * @param {string} inputId Element ID of the input file picker element.\n",
              " * @param {string} outputId Element ID of the output display.\n",
              " * @return {!Iterable<!Object>} Iterable of next steps.\n",
              " */\n",
              "function* uploadFilesStep(inputId, outputId) {\n",
              "  const inputElement = document.getElementById(inputId);\n",
              "  inputElement.disabled = false;\n",
              "\n",
              "  const outputElement = document.getElementById(outputId);\n",
              "  outputElement.innerHTML = '';\n",
              "\n",
              "  const pickedPromise = new Promise((resolve) => {\n",
              "    inputElement.addEventListener('change', (e) => {\n",
              "      resolve(e.target.files);\n",
              "    });\n",
              "  });\n",
              "\n",
              "  const cancel = document.createElement('button');\n",
              "  inputElement.parentElement.appendChild(cancel);\n",
              "  cancel.textContent = 'Cancel upload';\n",
              "  const cancelPromise = new Promise((resolve) => {\n",
              "    cancel.onclick = () => {\n",
              "      resolve(null);\n",
              "    };\n",
              "  });\n",
              "\n",
              "  // Wait for the user to pick the files.\n",
              "  const files = yield {\n",
              "    promise: Promise.race([pickedPromise, cancelPromise]),\n",
              "    response: {\n",
              "      action: 'starting',\n",
              "    }\n",
              "  };\n",
              "\n",
              "  cancel.remove();\n",
              "\n",
              "  // Disable the input element since further picks are not allowed.\n",
              "  inputElement.disabled = true;\n",
              "\n",
              "  if (!files) {\n",
              "    return {\n",
              "      response: {\n",
              "        action: 'complete',\n",
              "      }\n",
              "    };\n",
              "  }\n",
              "\n",
              "  for (const file of files) {\n",
              "    const li = document.createElement('li');\n",
              "    li.append(span(file.name, {fontWeight: 'bold'}));\n",
              "    li.append(span(\n",
              "        `(${file.type || 'n/a'}) - ${file.size} bytes, ` +\n",
              "        `last modified: ${\n",
              "            file.lastModifiedDate ? file.lastModifiedDate.toLocaleDateString() :\n",
              "                                    'n/a'} - `));\n",
              "    const percent = span('0% done');\n",
              "    li.appendChild(percent);\n",
              "\n",
              "    outputElement.appendChild(li);\n",
              "\n",
              "    const fileDataPromise = new Promise((resolve) => {\n",
              "      const reader = new FileReader();\n",
              "      reader.onload = (e) => {\n",
              "        resolve(e.target.result);\n",
              "      };\n",
              "      reader.readAsArrayBuffer(file);\n",
              "    });\n",
              "    // Wait for the data to be ready.\n",
              "    let fileData = yield {\n",
              "      promise: fileDataPromise,\n",
              "      response: {\n",
              "        action: 'continue',\n",
              "      }\n",
              "    };\n",
              "\n",
              "    // Use a chunked sending to avoid message size limits. See b/62115660.\n",
              "    let position = 0;\n",
              "    do {\n",
              "      const length = Math.min(fileData.byteLength - position, MAX_PAYLOAD_SIZE);\n",
              "      const chunk = new Uint8Array(fileData, position, length);\n",
              "      position += length;\n",
              "\n",
              "      const base64 = btoa(String.fromCharCode.apply(null, chunk));\n",
              "      yield {\n",
              "        response: {\n",
              "          action: 'append',\n",
              "          file: file.name,\n",
              "          data: base64,\n",
              "        },\n",
              "      };\n",
              "\n",
              "      let percentDone = fileData.byteLength === 0 ?\n",
              "          100 :\n",
              "          Math.round((position / fileData.byteLength) * 100);\n",
              "      percent.textContent = `${percentDone}% done`;\n",
              "\n",
              "    } while (position < fileData.byteLength);\n",
              "  }\n",
              "\n",
              "  // All done.\n",
              "  yield {\n",
              "    response: {\n",
              "      action: 'complete',\n",
              "    }\n",
              "  };\n",
              "}\n",
              "\n",
              "scope.google = scope.google || {};\n",
              "scope.google.colab = scope.google.colab || {};\n",
              "scope.google.colab._files = {\n",
              "  _uploadFiles,\n",
              "  _uploadFilesContinue,\n",
              "};\n",
              "})(self);\n",
              "</script> "
            ]
          },
          "metadata": {}
        },
        {
          "output_type": "stream",
          "name": "stdout",
          "text": [
            "Saving kaggle.json to kaggle.json\n"
          ]
        },
        {
          "output_type": "execute_result",
          "data": {
            "text/plain": [
              "{'kaggle.json': b'{\"username\":\"huggydt\",\"key\":\"4082adeb51618c1b2fccc1977a1b1aa3\"}'}"
            ]
          },
          "metadata": {},
          "execution_count": 2
        }
      ],
      "source": [
        "from google.colab import files\n",
        "files.upload()"
      ]
    },
    {
      "cell_type": "code",
      "execution_count": null,
      "metadata": {
        "colab": {
          "base_uri": "https://localhost:8080/"
        },
        "id": "sTPoiDoOiw3R",
        "outputId": "20714023-21dd-4664-f670-751d9f589790"
      },
      "outputs": [
        {
          "output_type": "stream",
          "name": "stdout",
          "text": [
            "-rw-r--r-- 1 root root 63 Dec 11 17:57 kaggle.json\n",
            "/content\n"
          ]
        }
      ],
      "source": [
        "!ls -lha kaggle.json\n",
        "!pip install -q kaggle # installing the kaggle package\n",
        "!mkdir -p ~/.kaggle # creating .kaggle folder where the key should be placed\n",
        "!cp kaggle.json ~/.kaggle/ # move the key to the folder\n",
        "!pwd # checking the present working directory"
      ]
    },
    {
      "cell_type": "code",
      "execution_count": null,
      "metadata": {
        "id": "piURe2FXi6rZ"
      },
      "outputs": [],
      "source": [
        "!chmod 600 ~/.kaggle/kaggle.json"
      ]
    },
    {
      "cell_type": "code",
      "execution_count": null,
      "metadata": {
        "id": "g9XXy-h_jHGx"
      },
      "outputs": [],
      "source": [
        "import os\n",
        "\n",
        "# Specify the paths for the downloaded files and extraction directories\n",
        "zip_file1_path = '/content/drive/MyDrive/PysparkProject/millions-of-movies.zip'\n",
        "extracted_dir1_path = '/content/drive/MyDrive/PysparkProject/csvs/millions-of-movies/'\n",
        "dataset1 = 'akshaypawar7/millions-of-movies'\n",
        "\n",
        "zip_file2_path = '/content/drive/MyDrive/PysparkProject/imdb-dataset-of-top-1000-movies-and-tv-shows.zip'\n",
        "extracted_dir2_path = '/content/drive/MyDrive/PysparkProject/csvs/imdb-dataset-of-top-1000-movies-and-tv-shows/'\n",
        "dataset2 = 'harshitshankhdhar/imdb-dataset-of-top-1000-movies-and-tv-shows'\n",
        "\n",
        "zip_file3_path = '/content/drive/MyDrive/PysparkProject/top-100-rotten-tomatoes-movies-by-genres.zip'\n",
        "extracted_dir3_path = '/content/drive/MyDrive/PysparkProject/csvs/top-100-rotten-tomatoes-movies-by-genres/'\n",
        "dataset3 = 'prasertk/top-100-rotten-tomatoes-movies-by-genres'\n",
        "\n",
        "def download_kaggle(zip_path, dataset):\n",
        "    if not os.path.exists(zip_path):\n",
        "        !kaggle datasets download -d {dataset} -p /content/drive/MyDrive/PysparkProject\n",
        "\n",
        "# Function to check and extract if needed\n",
        "def check_and_extract(zip_path, extract_path):\n",
        "    if not os.path.exists(extract_path):\n",
        "        !unzip {zip_path} -d {extract_path}\n",
        "\n",
        "if not os.path.exists('/content/drive/MyDrive/PysparkProject'):\n",
        "  os.makedirs('/content/drive/MyDrive/PysparkProject')\n",
        "# Download and extract for the first zip file\n",
        "download_kaggle(zip_file1_path, dataset1)\n",
        "check_and_extract(zip_file1_path, extracted_dir1_path)\n",
        "\n",
        "# Download and extract for the second zip file\n",
        "download_kaggle(zip_file2_path, dataset2)\n",
        "check_and_extract(zip_file2_path, extracted_dir2_path)\n",
        "\n",
        "# Download and extract for the third zip file\n",
        "download_kaggle(zip_file3_path, dataset3)\n",
        "check_and_extract(zip_file3_path, extracted_dir3_path)\n"
      ]
    },
    {
      "cell_type": "code",
      "execution_count": null,
      "metadata": {
        "id": "EIvQp4-prk4i"
      },
      "outputs": [],
      "source": [
        "import shutil\n",
        "\n",
        "def move_csvs_to_folder(source_folder, destination_folder):\n",
        "    # Iterate through the source folder\n",
        "    for filename in os.listdir(source_folder):\n",
        "        if filename.endswith(\".csv\"):\n",
        "            source_path = os.path.join(source_folder, filename)\n",
        "            destination_path = os.path.join(destination_folder, filename)\n",
        "            # Move the CSV file to the destination folder\n",
        "            shutil.move(source_path, destination_path)\n",
        "\n",
        "local_dest = '/content/drive/MyDrive/PysparkProject/csvs/'\n",
        "# Usage example:\n",
        "# Move CSVs from extracted_dir1_path to ''\n",
        "move_csvs_to_folder(extracted_dir1_path, local_dest)\n",
        "\n",
        "# Move CSVs from extracted_dir2_path to '/content/drive/MyDrive/PysparkProject/csvs/'\n",
        "move_csvs_to_folder(extracted_dir2_path, local_dest)\n",
        "\n",
        "# Move CSVs from extracted_dir3_path to '/content/drive/MyDrive/PysparkProject/csvs/'\n",
        "move_csvs_to_folder(extracted_dir3_path, local_dest)\n"
      ]
    },
    {
      "cell_type": "code",
      "execution_count": null,
      "metadata": {
        "id": "YEGUPh5HK2OU"
      },
      "outputs": [],
      "source": [
        "#Instalar Java 8\n",
        "!apt-get install openjdk-8-jdk-headless -qq > /dev/null"
      ]
    },
    {
      "cell_type": "code",
      "execution_count": null,
      "metadata": {
        "id": "lgyVM9qwK4av"
      },
      "outputs": [],
      "source": [
        "#Realizar o download do Spark\n",
        "!wget -q https://dlcdn.apache.org/spark/spark-3.4.2/spark-3.4.2-bin-hadoop3.tgz"
      ]
    },
    {
      "cell_type": "code",
      "execution_count": null,
      "metadata": {
        "id": "onEaNKWcK4pF"
      },
      "outputs": [],
      "source": [
        "#Descompartar o arquivo baixado\n",
        "!tar xf spark-3.4.2-bin-hadoop3.tgz\n",
        "#Instalando a findspark\n",
        "!pip install -q findspark"
      ]
    },
    {
      "cell_type": "code",
      "execution_count": null,
      "metadata": {
        "id": "dTp_TWh_K4xF"
      },
      "outputs": [],
      "source": [
        "#Importando a biblioteca os\n",
        "import os\n",
        "\n",
        "#Definindo a variável de ambiente do Java\n",
        "os.environ[\"JAVA_HOME\"] = \"/usr/lib/jvm/java-8-openjdk-amd64\"\n",
        "\n",
        "#Definindo a variável de ambiente do Spark\n",
        "os.environ[\"SPARK_HOME\"] = \"/content/spark-3.4.2-bin-hadoop3\"\n",
        "\n",
        "#Importando a findspark\n",
        "import findspark\n",
        "\n",
        "#Iniciando o findspark\n",
        "findspark.init('spark-3.4.2-bin-hadoop3')"
      ]
    },
    {
      "cell_type": "code",
      "execution_count": null,
      "metadata": {
        "id": "gmimaQ7aLVo0"
      },
      "outputs": [],
      "source": [
        "# iniciar uma sessão local\n",
        "from pyspark.sql import SparkSession\n",
        "from pyspark.sql.types import StructType, StructField, IntegerType, StringType, FloatType, DoubleType\n",
        "import pyspark.sql.functions as F\n",
        "import time\n",
        "sc = SparkSession.builder.master('local[*]').config('spark.ui.port', '4050').enableHiveSupport().getOrCreate()"
      ]
    },
    {
      "cell_type": "code",
      "execution_count": null,
      "metadata": {
        "id": "u5QnnFaaLVyU"
      },
      "outputs": [],
      "source": [
        "spark = SparkSession(sc)"
      ]
    },
    {
      "cell_type": "code",
      "execution_count": null,
      "metadata": {
        "id": "ZuGRJ8dmofcG"
      },
      "outputs": [],
      "source": [
        "os.environ[\"Drive_csvs\"] = '/content/drive/MyDrive/PysparkProject'"
      ]
    },
    {
      "cell_type": "markdown",
      "metadata": {
        "id": "FxSVgmDxucCb"
      },
      "source": []
    },
    {
      "cell_type": "markdown",
      "source": [
        "# Mapeando e tratando os intervalos de dados divergentes\n"
      ],
      "metadata": {
        "id": "IaTeI2A7OOZK"
      }
    },
    {
      "cell_type": "markdown",
      "source": [
        "Esse trecho foi para utilizar funcionalidades do spark para extrair csvs simultaneamente, tal como utiliza-lo para tratas os dados posteriormente"
      ],
      "metadata": {
        "id": "oDsSzu5VOkQP"
      }
    },
    {
      "cell_type": "code",
      "execution_count": null,
      "metadata": {
        "colab": {
          "base_uri": "https://localhost:8080/"
        },
        "id": "uZBw1miGqA8E",
        "outputId": "bdb47b8e-704d-4fe8-812c-1d8181bd9b95"
      },
      "outputs": [
        {
          "output_type": "stream",
          "name": "stderr",
          "text": [
            "/content/spark-3.4.2-bin-hadoop3/python/pyspark/pandas/__init__.py:50: UserWarning: 'PYARROW_IGNORE_TIMEZONE' environment variable was not set. It is required to set this environment variable to '1' in both driver and executor sides if you use pyarrow>=2.0.0. pandas-on-Spark will set it for you but it does not work if there is a Spark context already launched.\n",
            "  warnings.warn(\n",
            "/content/spark-3.4.2-bin-hadoop3/python/pyspark/pandas/utils.py:975: PandasAPIOnSparkAdviceWarning: If `index_col` is not specified for `read_csv`, the default index is attached which can cause additional overhead.\n",
            "  warnings.warn(message, PandasAPIOnSparkAdviceWarning)\n"
          ]
        }
      ],
      "source": [
        "import pyspark.pandas as pd\n",
        "import os\n",
        "\n",
        "drive_csvs_path = os.environ.get(\"Drive_csvs\")\n",
        "csv_file_path = '/content/drive/MyDrive/PysparkProject/csvs/*.csv'\n",
        "\n",
        "pd.set_option('compute.default_index_type', 'distributed-sequence')\n",
        "\n",
        "df_spark = pd.read_csv(csv_file_path, lines=True, index_col=None)\n",
        "# Define the intervals for each CSV file\n",
        "interval_first_csv = (0, 722618)\n",
        "interval_second_csv = (722619, 723618)\n",
        "interval_third_csv = (723619, 725230)\n",
        "\n",
        "# Convert the index to a column\n",
        "df_spark = df_spark.reset_index()\n",
        "# Filter rows for the first CSV file\n",
        "df_first_csv = df_spark[(df_spark['index'] >= interval_first_csv[0]) & (df_spark['index'] <= interval_first_csv[1])]\n",
        "\n",
        "# Filter rows for the second CSV file\n",
        "df_second_csv = df_spark[(df_spark['index'] >= interval_second_csv[0]) & (df_spark['index'] <= interval_second_csv[1])]\n",
        "\n",
        "# Filter rows for the third CSV file\n",
        "df_third_csv = df_spark[(df_spark['index'] >= interval_third_csv[0]) & (df_spark['index'] <= interval_third_csv[1])]"
      ]
    },
    {
      "cell_type": "code",
      "execution_count": null,
      "metadata": {
        "id": "UKWQRemHc7Fd"
      },
      "outputs": [],
      "source": [
        "columns_to_keep = ['index', 'id', 'title', 'genres', 'original_language', 'overview']\n",
        "df_third_csv = df_third_csv[columns_to_keep]"
      ]
    },
    {
      "cell_type": "code",
      "execution_count": null,
      "metadata": {
        "id": "7o-CN50nvShZ"
      },
      "outputs": [],
      "source": [
        "new_column_names = {'index': 'index', 'id': 'genres', 'title': 'rank', 'genres': 'RatingTomatometer', 'original_language': 'title', 'overview': 'No. of Reviews'}\n",
        "df_third_csv = df_third_csv.rename(columns=new_column_names)"
      ]
    },
    {
      "cell_type": "code",
      "execution_count": null,
      "metadata": {
        "id": "hkfl0BYsnom5"
      },
      "outputs": [],
      "source": [
        "columns_to_keep1 = ['index', 'title', 'genres', 'overview', 'popularity','production_companies']\n",
        "df_second_csv = df_second_csv[columns_to_keep1]"
      ]
    },
    {
      "cell_type": "code",
      "execution_count": null,
      "metadata": {
        "id": "k1FeRgvjuZiw"
      },
      "outputs": [],
      "source": [
        "new_column_names1 = {'index': 'index', 'title': 'title', 'genres': 'Released_Year', 'overview':'Runtime',\"popularity\":\"Genre\",\"production_companies\":\"IMDB_Rating\"}\n",
        "df_second_csv = df_second_csv.rename(columns=new_column_names1)"
      ]
    },
    {
      "cell_type": "code",
      "execution_count": null,
      "metadata": {
        "id": "1qNWgpkrvnhI"
      },
      "outputs": [],
      "source": [
        "columns_to_keep11 = ['index', 'title', 'genres', 'original_language','production_companies','release_date','budget','revenue','runtime','status','vote_average','credits']\n",
        "df_first_csv = df_first_csv[columns_to_keep11]"
      ]
    },
    {
      "cell_type": "code",
      "execution_count": null,
      "metadata": {
        "id": "UXr9MDnWxATF"
      },
      "outputs": [],
      "source": [
        "#df1_2 = pd.merge(df_first_csv,df_second_csv, on = 'title',how = 'inner')\n",
        "df1_2 = pd.merge(df_first_csv,df_second_csv[['title','IMDB_Rating']],  left_on='title', right_on='title', how='left')"
      ]
    },
    {
      "cell_type": "code",
      "execution_count": null,
      "metadata": {
        "id": "aKvyBmm958Ir"
      },
      "outputs": [],
      "source": [
        "df_third_csv_limpo = df_third_csv\n",
        "df_third_csv_limpo['title'] = df_third_csv_limpo['title'].str.replace(r'\\(\\d+\\)', '').str.strip()"
      ]
    },
    {
      "cell_type": "code",
      "execution_count": null,
      "metadata": {
        "id": "aTkK6vDb7Izc"
      },
      "outputs": [],
      "source": [
        "df12_3 = pd.merge(df1_2,df_third_csv_limpo[['title','RatingTomatometer']],  left_on='title', right_on='title', how='left')"
      ]
    },
    {
      "cell_type": "code",
      "execution_count": null,
      "metadata": {
        "id": "kl4BVGAG0rtZ"
      },
      "outputs": [],
      "source": [
        "df12_3 = df12_3.drop_duplicates(subset=['index'])"
      ]
    },
    {
      "cell_type": "code",
      "execution_count": null,
      "metadata": {
        "id": "GyHqNdOi2cPQ"
      },
      "outputs": [],
      "source": [
        "df12_3 = df12_3.query(\"status = 'Released'\")"
      ]
    },
    {
      "cell_type": "code",
      "execution_count": null,
      "metadata": {
        "id": "U60kqctZ314g"
      },
      "outputs": [],
      "source": [
        "df_temp2 = df12_3\n",
        "df_temp2['release_date'] = df_temp2['release_date'].str.slice(stop=-3)\n",
        "df_temp2['year'] = df_temp2['release_date'].str.slice(stop=-3)"
      ]
    },
    {
      "cell_type": "code",
      "execution_count": null,
      "metadata": {
        "id": "QMX0WCBfXbUA"
      },
      "outputs": [],
      "source": [
        "df_temp3 = df_temp2\n",
        "df_temp3['month'] = df_temp3['release_date'].str.slice(-2).astype(int)"
      ]
    },
    {
      "cell_type": "code",
      "execution_count": null,
      "metadata": {
        "colab": {
          "base_uri": "https://localhost:8080/",
          "height": 381
        },
        "id": "Cg3iCaDpT4U6",
        "outputId": "df46c23e-37cb-4a74-b74d-49228cb03c3b"
      },
      "outputs": [
        {
          "output_type": "stream",
          "name": "stdout",
          "text": [
            "root\n",
            " |-- index: long (nullable = false)\n",
            " |-- title: string (nullable = true)\n",
            " |-- genres: string (nullable = true)\n",
            " |-- original_language: string (nullable = true)\n",
            " |-- production_companies: string (nullable = true)\n",
            " |-- release_date: string (nullable = true)\n",
            " |-- budget: string (nullable = true)\n",
            " |-- revenue: string (nullable = true)\n",
            " |-- runtime: string (nullable = true)\n",
            " |-- status: string (nullable = true)\n",
            " |-- vote_average: string (nullable = true)\n",
            " |-- credits: string (nullable = true)\n",
            " |-- IMDB_Rating: string (nullable = true)\n",
            " |-- RatingTomatometer: string (nullable = true)\n",
            " |-- year: string (nullable = true)\n",
            " |-- month: long (nullable = true)\n",
            "\n"
          ]
        },
        {
          "output_type": "stream",
          "name": "stderr",
          "text": [
            "/content/spark-3.4.2-bin-hadoop3/python/pyspark/pandas/utils.py:975: PandasAPIOnSparkAdviceWarning: If `index_col` is not specified for `to_spark`, the existing index is lost when converting to Spark DataFrame.\n",
            "  warnings.warn(message, PandasAPIOnSparkAdviceWarning)\n"
          ]
        },
        {
          "output_type": "display_data",
          "data": {
            "text/plain": [
              "None"
            ]
          },
          "metadata": {}
        }
      ],
      "source": [
        "columns = df_temp3.columns\n",
        "schema = StructType([StructField(col, StringType(), True) for col in columns])\n",
        "# Convert PySpark.Pandas DataFrame to PySpark DataFrame with the dynamically generated schema\n",
        "df_spark = df_temp3.to_spark()\n",
        "spark.conf.set(\"spark.sql.repl.eagerEval.enabled\", True)\n",
        "\n",
        "df_spark.createOrReplaceTempView('df_spark')\n",
        "result = spark.sql('SELECT * FROM df_spark')\n",
        "display(result.printSchema())"
      ]
    },
    {
      "cell_type": "markdown",
      "source": [
        "# Criação das Dimensões"
      ],
      "metadata": {
        "id": "j84Gy7LJQPAo"
      }
    },
    {
      "cell_type": "code",
      "execution_count": null,
      "metadata": {
        "id": "aiVnT0NqARLl"
      },
      "outputs": [],
      "source": [
        "\n",
        "spark.sql('DROP TABLE IF EXISTS DIM_FILME')\n",
        "filtro_FILME = df_spark.select(\"title\").distinct()\n",
        "filtro_FILME = filtro_FILME.withColumn(\"ID_FILME\", F.monotonically_increasing_id())\n",
        "dim_FILME = filtro_FILME.withColumnRenamed(\"title\", \"NOME\")\n",
        "dim_FILME.createOrReplaceTempView(\"DIM_FILME\")\n",
        "dim_FILME = spark.sql(\"\"\"SELECT\n",
        "    *\n",
        "    FROM\n",
        "    Dim_filme\n",
        "    ;;\"\"\")\n",
        "\n",
        "\n",
        "parquet_path = \"/content/drive/MyDrive/tables\"\n",
        "\n",
        "dim_FILME.write.parquet(parquet_path, mode=\"overwrite\")\n",
        "\n",
        "dim_FILME.write.saveAsTable(\"DIM_FILME\", format=\"parquet\", mode=\"overwrite\")\n",
        "\n",
        "local_directory = \"/content/drive/MyDrive/tables\""
      ]
    },
    {
      "cell_type": "code",
      "execution_count": null,
      "metadata": {
        "colab": {
          "base_uri": "https://localhost:8080/",
          "height": 104
        },
        "id": "zi3PnUdAQ67H",
        "outputId": "75d1bda6-a102-4987-a771-33d3513e2ab0"
      },
      "outputs": [
        {
          "output_type": "stream",
          "name": "stdout",
          "text": [
            "CPU times: user 309 ms, sys: 37.8 ms, total: 346 ms\n",
            "Wall time: 1min 10s\n"
          ]
        },
        {
          "output_type": "execute_result",
          "data": {
            "text/plain": [
              "'\\ndistinct_year = (\\n    filtro_TEMPO\\n    .select(\"year\")\\n    .distinct()\\n    .withColumn(\"month\", F.lit(None).cast(\"int\"))\\n)\\n\\ndistinct_month = (\\n    filtro_TEMPO\\n    .select(\"month\")\\n    .distinct()\\n    .withColumn(\"year\", F.lit(None).cast(\"int\"))\\n)\\n\\n\\n# Union the DataFrames\\nresult_df = distinct_year.unionAll(distinct_month).withColumn(\"index\", F.monotonically_increasing_id())\\n\\n# Show all rows in the result_df DataFrame\\nresult_df.show(result_df.count(), truncate=False)\\n\\ndim_TEMPO = (\\n    year_granulati\\n    .unionAll(month_granulati)\\n    .withColumn(\"index\", F.monotonically_increasing_id())\\n)\\n\\n\\ndim_TEMPO = spark.sql(\"SELECT * FROM DIM_TEMPO\")\\n\\ndim_TEMPO.show(20)\\n'"
            ],
            "application/vnd.google.colaboratory.intrinsic+json": {
              "type": "string"
            }
          },
          "metadata": {},
          "execution_count": 30
        }
      ],
      "source": [
        "spark.sql('DROP TABLE IF EXISTS DIM_TEMPO')\n",
        "\n",
        "filtro_TEMPO = df_spark.select(\"year\").distinct().filter(F.col(\"year\").isNotNull())\n",
        "\n",
        "filtro_TEMPO = filtro_TEMPO.withColumn(\"id_TEMPO\", F.monotonically_increasing_id())\n",
        "dim_TEMPO = filtro_TEMPO.createOrReplaceTempView('DIM_TEMPO')\n",
        "dim_TEMPO = spark.sql(\"Select * from DIM_TEMPO\")\n",
        "\n",
        "\n",
        "parquet_path = \"/content/drive/MyDrive/tables\"\n",
        "\n",
        "dim_TEMPO.write.parquet(parquet_path, mode=\"overwrite\")\n",
        "\n",
        "dim_TEMPO.write.saveAsTable(\"DIM_TEMPO\", format=\"parquet\", mode=\"overwrite\")\n",
        "\n",
        "local_directory = \"/content/drive/MyDrive/tables\"\n",
        "#dim_TEMPO.orderBy(F.desc(\"month\"), \"year\",\"id_TEMPO\").show(dim_TEMPO.count(),truncate=False)\n",
        "'''\n",
        "\n",
        "filtro_year.orderBy(F.desc(\"year\"),).show(filtro_TEMPO.count(),truncate=False)\n",
        "filtro_TEMPO = filtro_TEMPO(filtro_year)\n",
        "'''\n",
        "'''\n",
        "filtro_TEMPO.orderBy(F.desc(\"month\"), \"year\").show(filtro_TEMPO.count(),truncate=False)\n",
        "'''\n",
        "'''\n",
        "\n",
        "year_granulati = filtro_TEMPO.select('year').distinct()\n",
        "month_granulati = filtro_TEMPO.select('month').distinct()\n",
        "'''\n",
        "'''\n",
        "distinct_year = (\n",
        "    filtro_TEMPO\n",
        "    .select(\"year\")\n",
        "    .distinct()\n",
        "    .withColumn(\"month\", F.lit(None).cast(\"int\"))\n",
        ")\n",
        "\n",
        "distinct_month = (\n",
        "    filtro_TEMPO\n",
        "    .select(\"month\")\n",
        "    .distinct()\n",
        "    .withColumn(\"year\", F.lit(None).cast(\"int\"))\n",
        ")\n",
        "\n",
        "\n",
        "# Union the DataFrames\n",
        "result_df = distinct_year.unionAll(distinct_month).withColumn(\"index\", F.monotonically_increasing_id())\n",
        "\n",
        "# Show all rows in the result_df DataFrame\n",
        "result_df.show(result_df.count(), truncate=False)\n",
        "''''''\n",
        "dim_TEMPO = (\n",
        "    year_granulati\n",
        "    .unionAll(month_granulati)\n",
        "    .withColumn(\"index\", F.monotonically_increasing_id())\n",
        ")\n",
        "\n",
        "\n",
        "dim_TEMPO = spark.sql(\"SELECT * FROM DIM_TEMPO\")\n",
        "\n",
        "dim_TEMPO.show(20)\n",
        "'''"
      ]
    },
    {
      "cell_type": "code",
      "execution_count": null,
      "metadata": {
        "id": "DsihZbw6Hmh5"
      },
      "outputs": [],
      "source": [
        "spark.sql('DROP TABLE IF EXISTS DIM_GENERO')\n",
        "filtro_GENRE = df_spark.select(\"genres\").distinct()\n",
        "dim_GENRE = filtro_GENRE.withColumnRenamed(\"genres\", \"GENEROS\")\n",
        "dim_GENRE = dim_GENRE.withColumn(\"ID_GENRES\", F.monotonically_increasing_id())\n",
        "dim_GENRE.createOrReplaceTempView(\"DIM_GENERO\")\n",
        "dim_GENRE = spark.sql(\"Select * from DIM_GENERO\")\n",
        "\n",
        "\n",
        "\n",
        "parquet_path = \"/content/drive/MyDrive/tables\"\n",
        "\n",
        "dim_GENRE.write.parquet(parquet_path, mode=\"overwrite\")\n",
        "\n",
        "dim_GENRE.write.saveAsTable(\"DIM_GENERO\", format=\"parquet\", mode=\"overwrite\")\n",
        "\n",
        "local_directory = \"/content/drive/MyDrive/tables\""
      ]
    },
    {
      "cell_type": "code",
      "execution_count": null,
      "metadata": {
        "id": "vTL8ELbwxaK5"
      },
      "outputs": [],
      "source": [
        "spark.sql('DROP TABLE IF EXISTS DIM_IDIOM')\n",
        "\n",
        "filtro_IDIOM = df_spark.select(\"original_language\").distinct()\n",
        "dim_IDIOM = filtro_IDIOM.withColumnRenamed(\"original_language\", \"LINGUA_ORIGINAL\")\n",
        "dim_IDIOM = dim_IDIOM.withColumn(\"ID_IDIOM\", F.monotonically_increasing_id())\n",
        "dim_IDIOM.createOrReplaceTempView(\"DIM_IDIOM\")\n",
        "dim_IDIOM = spark.sql(\"Select * from DIM_IDIOM\")\n",
        "\n",
        "\n",
        "\n",
        "parquet_path = \"/content/drive/MyDrive/tables\"\n",
        "\n",
        "dim_IDIOM.write.parquet(parquet_path, mode=\"overwrite\")\n",
        "\n",
        "dim_IDIOM.write.saveAsTable(\"DIM_IDIOM\", format=\"parquet\", mode=\"overwrite\")\n",
        "\n",
        "local_directory = \"/content/drive/MyDrive/tables\""
      ]
    },
    {
      "cell_type": "markdown",
      "source": [
        "# Criação da Fato"
      ],
      "metadata": {
        "id": "erZ6MG7yQafR"
      }
    },
    {
      "cell_type": "code",
      "execution_count": null,
      "metadata": {
        "id": "CesbwZLvDBv1"
      },
      "outputs": [],
      "source": [
        "esquema_fato = StructType([\n",
        "    StructField(\"ID_FILME\", IntegerType(), False),\n",
        "    StructField(\"id_TEMPO\", IntegerType(), False),\n",
        "    StructField(\"ID_GENRES\", IntegerType(), False),\n",
        "    StructField(\"ID_IDIOM\", IntegerType(), False),\n",
        "    StructField(\"nota_media_total\", FloatType(), True),\n",
        "    StructField(\"tempo_tela_por_genero\", DoubleType(), True),\n",
        "    StructField(\"saldo_por_ano\", FloatType(), True)\n",
        "])\n",
        "\n",
        "\n",
        "fato = sc.createDataFrame([], schema=esquema_fato)\n",
        "\n",
        "fato.createOrReplaceTempView(\"fato\")\n",
        "\n",
        "result = spark.sql(\"SELECT * FROM fato\")\n",
        "\n",
        "spark.sql('DROP TABLE IF EXISTS fatohive')\n",
        "\n",
        "parquet_path = \"/content/drive/MyDrive/table\"\n",
        "\n",
        "result.write.parquet(parquet_path, mode=\"overwrite\")\n",
        "\n",
        "result.write.saveAsTable(\"fatohive\", format=\"parquet\", mode=\"overwrite\")\n",
        "\n",
        "local_directory = \"/content/drive/MyDrive/tables\"\n",
        "\n",
        "\n",
        "#result.show()\n",
        "\n",
        "#fato.createOrReplaceTempView(\"fato\")\n",
        "\n",
        "#result = spark.sql(\"SELECT * FROM fato\")\n",
        "\n",
        "#result.show()"
      ]
    },
    {
      "cell_type": "code",
      "execution_count": null,
      "metadata": {
        "id": "7SfDBbLUbITI"
      },
      "outputs": [],
      "source": [
        "df_spark = df_spark.withColumn(\n",
        "    \"RatingTomatometer\",\n",
        "    F.expr(\"substring(RatingTomatometer, 1, 2)\")\n",
        ")"
      ]
    },
    {
      "cell_type": "code",
      "execution_count": null,
      "metadata": {
        "id": "o1fObgjPz1c8"
      },
      "outputs": [],
      "source": [
        "Filtra_FATO = df_spark.createOrReplaceTempView(\"JOIN_FT\")\n",
        "Filtra_FATO = spark.sql(\"\"\"\n",
        "    SELECT\n",
        "        F.ID_FILME,\n",
        "        F.NOME,\n",
        "        G.ID_GENRES,\n",
        "        G.GENEROS,\n",
        "        T.id_TEMPO,\n",
        "        T.year,\n",
        "        I.ID_IDIOM,\n",
        "        I.LINGUA_ORIGINAL,\n",
        "        FT.budget,\n",
        "        FT.revenue,\n",
        "        FT.runtime,\n",
        "        COALESCE(FT.vote_average, -1) as vote_average,\n",
        "        COALESCE(FT.IMDB_Rating, -1) as IMDB_Rating,\n",
        "        COALESCE(FT.RatingTomatometer, -1) as RatingTomatometer\n",
        "    FROM\n",
        "        JOIN_FT as FT, DIM_FILME AS F, DIM_TEMPO AS T, DIM_IDIOM AS I, DIM_GENERO AS G\n",
        "    WHERE\n",
        "        FT.title = F.NOME AND\n",
        "        FT.original_language = I.LINGUA_ORIGINAL AND\n",
        "        FT.genres = G.GENEROS AND\n",
        "        FT.year = T.year\n",
        "\"\"\")\n",
        "Filtra_FATO.createOrReplaceTempView(\"new_fato\")\n"
      ]
    },
    {
      "cell_type": "code",
      "execution_count": null,
      "metadata": {
        "id": "l4l2OBDRXnwR"
      },
      "outputs": [],
      "source": [
        "Filtra_FATO = Filtra_FATO.withColumn(\"RatingTomatometer\", F.col(\"RatingTomatometer\").cast(FloatType()))\n",
        "Filtra_FATO = Filtra_FATO.withColumn(\"IMDB_Rating\", F.col(\"IMDB_Rating\").cast(FloatType()))\n",
        "Filtra_FATO = Filtra_FATO.withColumn(\"vote_average\", F.col(\"vote_average\").cast(FloatType()))\n",
        "Filtra_FATO = Filtra_FATO.withColumn(\"runtime\", F.col(\"runtime\").cast(DoubleType()))\n",
        "#Filtra_FATO = Filtra_FATO.withColumn(\"IMDB_Rating\", F.col(\"IMDB_Rating\").cast(\"float\"))\n",
        "#Filtra_FATO = Filtra_FATO.withColumn(\"vote_average\", F.col(\"vote_average\").cast(\"float\"))\n",
        "\n",
        "#Filtra_FATO[\"RatingTomatometer\"] = Filtra_FATO[\"RatingTomatometer\"]\n",
        "\n",
        "#Filtra_FATO[\"RatingTomatometer\"] = Filtra_FATO[\"RatingTomatometer\"] / 10\n",
        "#Filtra_FATO.head(1)"
      ]
    },
    {
      "cell_type": "code",
      "execution_count": null,
      "metadata": {
        "colab": {
          "base_uri": "https://localhost:8080/"
        },
        "id": "Yf21oRBGYTqe",
        "outputId": "2ec45ad1-4da1-4f30-a4ff-924c531d7918"
      },
      "outputs": [
        {
          "output_type": "execute_result",
          "data": {
            "text/plain": [
              "[Table(name='dim_filme', catalog='spark_catalog', namespace=['default'], description=None, tableType='MANAGED', isTemporary=False),\n",
              " Table(name='dim_genero', catalog='spark_catalog', namespace=['default'], description=None, tableType='MANAGED', isTemporary=False),\n",
              " Table(name='dim_idiom', catalog='spark_catalog', namespace=['default'], description=None, tableType='MANAGED', isTemporary=False),\n",
              " Table(name='dim_tempo', catalog='spark_catalog', namespace=['default'], description=None, tableType='MANAGED', isTemporary=False),\n",
              " Table(name='fatohive', catalog='spark_catalog', namespace=['default'], description=None, tableType='MANAGED', isTemporary=False),\n",
              " Table(name='df_spark', catalog=None, namespace=[], description=None, tableType='TEMPORARY', isTemporary=True),\n",
              " Table(name='DIM_FILME', catalog=None, namespace=[], description=None, tableType='TEMPORARY', isTemporary=True),\n",
              " Table(name='DIM_GENERO', catalog=None, namespace=[], description=None, tableType='TEMPORARY', isTemporary=True),\n",
              " Table(name='DIM_IDIOM', catalog=None, namespace=[], description=None, tableType='TEMPORARY', isTemporary=True),\n",
              " Table(name='DIM_TEMPO', catalog=None, namespace=[], description=None, tableType='TEMPORARY', isTemporary=True),\n",
              " Table(name='fato', catalog=None, namespace=[], description=None, tableType='TEMPORARY', isTemporary=True),\n",
              " Table(name='JOIN_FT', catalog=None, namespace=[], description=None, tableType='TEMPORARY', isTemporary=True),\n",
              " Table(name='new_fato', catalog=None, namespace=[], description=None, tableType='TEMPORARY', isTemporary=True)]"
            ]
          },
          "metadata": {},
          "execution_count": 38
        }
      ],
      "source": [
        "spark.catalog.listTables()"
      ]
    },
    {
      "cell_type": "code",
      "execution_count": null,
      "metadata": {
        "id": "pWsxyMyvwgKG"
      },
      "outputs": [],
      "source": [
        "# Carga ID FILME, TEMPO, GENERO IDIOMA E MEDIA DO FILME NAS 3 BASES\n",
        "nota_media_filme_completo = spark.sql(f\"\"\" SELECT ID_FILME,id_TEMPO,ID_GENRES,ID_IDIOM,AVG((vote_average + IMDB_Rating + (RatingTomatometer/10)) / 3) as nota_media_total\n",
        "                              From new_fato\n",
        "                              WHERE  vote_average > 0  AND IMDB_Rating > 0 AND RatingTomatometer > 0\n",
        "                              GROUP BY ID_FILME,id_TEMPO,ID_GENRES,ID_IDIOM\"\"\")\n",
        "\n",
        "nota_media_filme_completo.createOrReplaceTempView(\"nota_media_filme_completo\")"
      ]
    },
    {
      "cell_type": "code",
      "execution_count": null,
      "metadata": {
        "id": "-pl3B3wvnQh5"
      },
      "outputs": [],
      "source": [
        "tempo_tela_genero = spark.sql(f\"\"\" SELECT ID_GENRES,AVG(runtime) as tempo_tela_por_genero\n",
        "                              From new_fato\n",
        "                              GROUP BY ID_GENRES \"\"\")\n",
        "tempo_tela_genero.createOrReplaceTempView(\"tempo_tela_genero\")\n"
      ]
    },
    {
      "cell_type": "code",
      "execution_count": null,
      "metadata": {
        "id": "Ynp1ahSiqL_Q"
      },
      "outputs": [],
      "source": [
        "#média de budget gasto por ano para cada genêro\n",
        "saldo_ano = spark.sql(f\"\"\" SELECT id_TEMPO,SUM( revenue - budget) as saldo_por_ano\n",
        "                              From new_fato\n",
        "                              GROUP BY id_TEMPO\"\"\")\n",
        "saldo_ano.createOrReplaceTempView(\"saldo_ano\")"
      ]
    },
    {
      "cell_type": "markdown",
      "source": [
        "# Ideias de funções, desconsideradas (não há necessidade de rodas)"
      ],
      "metadata": {
        "id": "WDatKeb2QwIh"
      }
    },
    {
      "cell_type": "code",
      "execution_count": null,
      "metadata": {
        "id": "XkkRY4D5nGNp",
        "colab": {
          "base_uri": "https://localhost:8080/",
          "height": 52
        },
        "outputId": "f8aeee69-91d6-41f7-c003-65c62d332a34"
      },
      "outputs": [
        {
          "output_type": "execute_result",
          "data": {
            "text/plain": [
              "'\\nnota_media_filme_completo\\nnota_media_filme_portal1\\n\\nnota_media_idioma_completo\\nnota_media_idioma_12\\nnota_media_idioma_13\\nnota_media_idioma_1\\n\\nnota_media_genero_completo\\nnota_media_genero_12\\nnota_media_genero_13\\nnota_media_genero_1\\n\\nnota_media_ano_completo\\nnota_media_ano_12\\nnota_media_ano_13\\nnota_media_ano_1\\n\\ntempo_tela_genero\\ntempo_tela_ano\\n\\nsaldo_por_ano\\nsaldo_por_genero\\nsaldo_por_genero_ano\\nsaldo_por_idioma\\n\\ntempo_tela_por_genero\\nsaldo_por_ano\\n'"
            ],
            "application/vnd.google.colaboratory.intrinsic+json": {
              "type": "string"
            }
          },
          "metadata": {},
          "execution_count": 42
        }
      ],
      "source": [
        "'''\n",
        "nota_media_filme_completo\n",
        "nota_media_filme_portal1\n",
        "\n",
        "nota_media_idioma_completo\n",
        "nota_media_idioma_12\n",
        "nota_media_idioma_13\n",
        "nota_media_idioma_1\n",
        "\n",
        "nota_media_genero_completo\n",
        "nota_media_genero_12\n",
        "nota_media_genero_13\n",
        "nota_media_genero_1\n",
        "\n",
        "nota_media_ano_completo\n",
        "nota_media_ano_12\n",
        "nota_media_ano_13\n",
        "nota_media_ano_1\n",
        "\n",
        "tempo_tela_genero\n",
        "tempo_tela_ano\n",
        "\n",
        "saldo_por_ano\n",
        "saldo_por_genero\n",
        "saldo_por_genero_ano\n",
        "saldo_por_idioma\n",
        "\n",
        "tempo_tela_por_genero\n",
        "saldo_por_ano\n",
        "'''\n"
      ]
    },
    {
      "cell_type": "markdown",
      "source": [
        "# Carga Fato"
      ],
      "metadata": {
        "id": "JcaxBoxsQ49x"
      }
    },
    {
      "cell_type": "code",
      "execution_count": null,
      "metadata": {
        "colab": {
          "base_uri": "https://localhost:8080/",
          "height": 70
        },
        "id": "xLW4l87R4dKA",
        "outputId": "a02f5604-390d-4503-907b-d5d95f9ad58d"
      },
      "outputs": [
        {
          "output_type": "execute_result",
          "data": {
            "text/plain": [
              "'\\n# Drop the column \\'nota_media_filme\\' from the joined data\\njoined_data_without_nota_media_filme = joined_data.drop(\\'nota_media_filme\\')\\n\\n# Select the desired columns for the insert\\ninsert_data = joined_data_without_nota_media_filme.select(\"ID_FILME\", \"id_TEMPO\", \"ID_GENRES\", \"ID_IDIOM\", \"fatohive.tempo_tela\", \"fatohive.saldo\", \"nota_media_filme_completo.nota_media\")\\n\\n# Write the selected data into the Hive table\\ninsert_data.write.mode(\"append\").insertInto(hive_table_name)\\n\\n# Confirm the data insertion by querying the Hive table\\nresult_from_hive = spark.sql(f\"SELECT * FROM {hive_table_name}\")\\nresult_from_hive.show() '"
            ],
            "application/vnd.google.colaboratory.intrinsic+json": {
              "type": "string"
            }
          },
          "metadata": {},
          "execution_count": 43
        }
      ],
      "source": [
        "hive_table_name = 'fatohive'\n",
        "\n",
        "# Cast the columns in nota_media_filme_completo to integer\n",
        "nota_media_filme_completo_casted = nota_media_filme_completo.withColumn(\"ID_FILME\", F.col(\"ID_FILME\").cast(\"integer\"))\n",
        "nota_media_filme_completo_casted = nota_media_filme_completo_casted.withColumn(\"ID_GENRES\", F.col(\"ID_GENRES\").cast(\"integer\"))\n",
        "nota_media_filme_completo_casted = nota_media_filme_completo_casted.withColumn(\"ID_IDIOM\", F.col(\"ID_IDIOM\").cast(\"integer\"))\n",
        "nota_media_filme_completo_casted = nota_media_filme_completo_casted.withColumn(\"id_TEMPO\", F.col(\"id_TEMPO\").cast(\"integer\"))\n",
        "\n",
        "# Add two extra columns with null values\n",
        "nota_media_filme_completo_casted = nota_media_filme_completo_casted.withColumn(\"tempo_tela_por_genero\", F.lit(None).cast(\"double\"))\n",
        "nota_media_filme_completo_casted = nota_media_filme_completo_casted.withColumn(\"saldo_por_ano\", F.lit(None).cast(\"float\"))\n",
        "\n",
        "# Insert into fatohive\n",
        "nota_media_filme_completo_casted.write.mode(\"append\").insertInto(hive_table_name)\n",
        "\n",
        "# Perform the join with the Hive table\n",
        "'''\n",
        "# Drop the column 'nota_media_filme' from the joined data\n",
        "joined_data_without_nota_media_filme = joined_data.drop('nota_media_filme')\n",
        "\n",
        "# Select the desired columns for the insert\n",
        "insert_data = joined_data_without_nota_media_filme.select(\"ID_FILME\", \"id_TEMPO\", \"ID_GENRES\", \"ID_IDIOM\", \"fatohive.tempo_tela\", \"fatohive.saldo\", \"nota_media_filme_completo.nota_media\")\n",
        "\n",
        "# Write the selected data into the Hive table\n",
        "insert_data.write.mode(\"append\").insertInto(hive_table_name)\n",
        "\n",
        "# Confirm the data insertion by querying the Hive table\n",
        "result_from_hive = spark.sql(f\"SELECT * FROM {hive_table_name}\")\n",
        "result_from_hive.show() '''\n"
      ]
    },
    {
      "cell_type": "code",
      "execution_count": null,
      "metadata": {
        "id": "4_Af-yIHPP2E",
        "colab": {
          "base_uri": "https://localhost:8080/",
          "height": 27
        },
        "outputId": "3c4361fe-0ffb-4ed7-dd3e-1f6c2118cc9b"
      },
      "outputs": [
        {
          "output_type": "execute_result",
          "data": {
            "text/plain": [
              "++\n",
              "||\n",
              "++\n",
              "++"
            ],
            "text/html": [
              "<table border='1'>\n",
              "<tr><th></th></tr>\n",
              "</table>\n"
            ]
          },
          "metadata": {},
          "execution_count": 45
        }
      ],
      "source": [
        "spark.sql(\"\"\"\n",
        "    INSERT INTO fatohive (ID_GENRES, tempo_tela_por_genero)\n",
        "    SELECT\n",
        "        ID_GENRES,\n",
        "        CAST(tempo_tela_por_genero AS DOUBLE) AS tempo_tela_por_genero\n",
        "    FROM\n",
        "        tempo_tela_genero\n",
        "\"\"\")\n"
      ]
    },
    {
      "cell_type": "code",
      "source": [
        "# Cast the columns in saldo_por_ano\n",
        "spark.sql(\"\"\"\n",
        "    INSERT INTO fatohive (id_TEMPO, saldo_por_ano)\n",
        "    SELECT\n",
        "        id_TEMPO,\n",
        "        CAST(saldo_por_ano AS FLOAT) AS saldo_por_ano\n",
        "    FROM\n",
        "        saldo_ano\n",
        "\"\"\")"
      ],
      "metadata": {
        "colab": {
          "base_uri": "https://localhost:8080/",
          "height": 27
        },
        "id": "kExzWSJHxGQc",
        "outputId": "fbd68943-9dbd-4b9f-ae47-6cdbc52a6dda"
      },
      "execution_count": null,
      "outputs": [
        {
          "output_type": "execute_result",
          "data": {
            "text/plain": [
              "++\n",
              "||\n",
              "++\n",
              "++"
            ],
            "text/html": [
              "<table border='1'>\n",
              "<tr><th></th></tr>\n",
              "</table>\n"
            ]
          },
          "metadata": {},
          "execution_count": 46
        }
      ]
    },
    {
      "cell_type": "markdown",
      "source": [
        "# Consultas"
      ],
      "metadata": {
        "id": "5mIDi8x7RQYn"
      }
    },
    {
      "cell_type": "code",
      "source": [
        "#média de tempo de tela por gênero\n",
        "\n",
        "top10_generos_mais_badalados_media = spark.sql(\"\"\"\n",
        "    SELECT\n",
        "        g.GENEROS,\n",
        "        MAX(fh.tempo_tela_por_genero) AS total_tela_media\n",
        "    FROM\n",
        "        fatohive fh\n",
        "    JOIN\n",
        "        DIM_GENERO g ON fh.ID_GENRES = g.ID_GENRES\n",
        "    GROUP BY\n",
        "        g.GENEROS\n",
        "    ORDER BY\n",
        "        total_tela_media DESC\n",
        "    LIMIT 10\n",
        "\"\"\")\n",
        "\n",
        "\n",
        "display(top10_generos_mais_badalados_media.show(truncate=False))\n"
      ],
      "metadata": {
        "colab": {
          "base_uri": "https://localhost:8080/",
          "height": 295
        },
        "id": "5ay26O7X6tMw",
        "outputId": "423a6634-36f8-43a4-af2b-26403d0f6fa4"
      },
      "execution_count": null,
      "outputs": [
        {
          "output_type": "stream",
          "name": "stdout",
          "text": [
            "+---------------------------------------------------+----------------+\n",
            "|GENEROS                                            |total_tela_media|\n",
            "+---------------------------------------------------+----------------+\n",
            "|Documentary-Action-Adventure-Thriller-Drama-History|540.0           |\n",
            "|Documentary-Action-Drama-Thriller                  |540.0           |\n",
            "|Mystery-Fantasy-Crime                              |532.0           |\n",
            "|Drama-Fantasy-Adventure-History                    |485.0           |\n",
            "|Romance-Comedy-Music-Drama                         |457.2           |\n",
            "|Drama-Horror-TV Movie-Thriller                     |449.0           |\n",
            "|Documentary-Action-History                         |419.5           |\n",
            "|Romance-Crime-TV Movie                             |416.0           |\n",
            "|Romance-War-Adventure                              |377.0           |\n",
            "|Science Fiction-Animation-Action-Horror            |360.0           |\n",
            "+---------------------------------------------------+----------------+\n",
            "\n"
          ]
        },
        {
          "output_type": "display_data",
          "data": {
            "text/plain": [
              "None"
            ]
          },
          "metadata": {}
        }
      ]
    },
    {
      "cell_type": "code",
      "source": [
        "anos_mais_lucrativos = spark.sql(\"\"\"\n",
        "    SELECT\n",
        "        t.year,\n",
        "        fh.saldo_por_ano\n",
        "    FROM\n",
        "        fatohive fh\n",
        "    JOIN\n",
        "        DIM_TEMPO t ON fh.id_TEMPO = t.id_TEMPO\n",
        "    WHERE\n",
        "         fh.saldo_por_ano > 0\n",
        "    ORDER BY\n",
        "        fh.saldo_por_ano DESC\n",
        "    LIMIT 10\n",
        "\"\"\")\n",
        "\n",
        "\n",
        "display(anos_mais_lucrativos.show(truncate=False))"
      ],
      "metadata": {
        "colab": {
          "base_uri": "https://localhost:8080/",
          "height": 295
        },
        "id": "76lopT2JfCRQ",
        "outputId": "a5d1d702-1f6f-4b6d-e426-2406b050f639"
      },
      "execution_count": null,
      "outputs": [
        {
          "output_type": "stream",
          "name": "stdout",
          "text": [
            "+----+-------------+\n",
            "|year|saldo_por_ano|\n",
            "+----+-------------+\n",
            "|2017|2.27155476E10|\n",
            "|2015|2.17749688E10|\n",
            "|2018|2.1694038E10 |\n",
            "|2016|2.11094815E10|\n",
            "|2019|2.049442E10  |\n",
            "|2014|1.90217073E10|\n",
            "|2013|1.80652749E10|\n",
            "|2012|1.79690598E10|\n",
            "|2011|1.60923832E10|\n",
            "|2009|1.53027133E10|\n",
            "+----+-------------+\n",
            "\n"
          ]
        },
        {
          "output_type": "display_data",
          "data": {
            "text/plain": [
              "None"
            ]
          },
          "metadata": {}
        }
      ]
    },
    {
      "cell_type": "markdown",
      "source": [
        "Leve em consideração que o banco de dados extraido possuia o mesmo filme mas com linguagem e nota diferente, portanto a avaliação do site leva em consideração a linguagem dos votantes e não a lingua original."
      ],
      "metadata": {
        "id": "15HqVgtvRvYI"
      }
    },
    {
      "cell_type": "code",
      "source": [
        "notas_by_idioma = spark.sql(\"\"\"\n",
        "    WITH RankedFilms AS (\n",
        "        SELECT\n",
        "            f.NOME,\n",
        "            i.LINGUA_ORIGINAL,\n",
        "            fh.nota_media_total,\n",
        "            ROW_NUMBER() OVER (PARTITION BY i.LINGUA_ORIGINAL, f.NOME ORDER BY fh.nota_media_total DESC) AS rnk\n",
        "        FROM\n",
        "            DIM_FILME f\n",
        "        JOIN\n",
        "            fatohive fh ON f.ID_FILME = fh.ID_FILME\n",
        "        JOIN\n",
        "            DIM_IDIOM i ON fh.ID_IDIOM = i.ID_IDIOM\n",
        "    )\n",
        "\n",
        "    SELECT\n",
        "        NOME,\n",
        "        LINGUA_ORIGINAL,\n",
        "        nota_media_total\n",
        "    FROM\n",
        "        RankedFilms\n",
        "    WHERE\n",
        "        rnk = 1\n",
        "\"\"\")\n",
        "\n",
        "m = notas_by_idioma.count()\n",
        "display(notas_by_idioma.orderBy('nota_media_total', ascending=False).show(m, truncate=False))\n"
      ],
      "metadata": {
        "colab": {
          "base_uri": "https://localhost:8080/",
          "height": 1000
        },
        "id": "rMYFkkmNMOag",
        "outputId": "bbf846ea-e31c-4554-a514-292d929ec9f6"
      },
      "execution_count": null,
      "outputs": [
        {
          "output_type": "stream",
          "name": "stdout",
          "text": [
            "+------------------------------------------------------------------------------------------------+---------------+----------------+\n",
            "|NOME                                                                                            |LINGUA_ORIGINAL|nota_media_total|\n",
            "+------------------------------------------------------------------------------------------------+---------------+----------------+\n",
            "|The Godfather                                                                                   |en             |9.203333        |\n",
            "|Amadeus                                                                                         |cs             |9.2             |\n",
            "|Her                                                                                             |sq             |9.133333        |\n",
            "|Sevince                                                                                         |en             |9.090667        |\n",
            "|The Invisible Man                                                                               |en             |9.033334        |\n",
            "|The Dark Knight                                                                                 |en             |8.969334        |\n",
            "|Inside Out                                                                                      |en             |8.966666        |\n",
            "|The Wizard of Oz                                                                                |ja             |8.933333        |\n",
            "|鬼出嫁                                                                                          |en             |8.9             |\n",
            "|Vertigo                                                                                         |it             |8.9             |\n",
            "|Star Trek: Inside the Roddenberry Vault                                                         |en             |8.867333        |\n",
            "|The Color of Pomegranates                                                                       |en             |8.861333        |\n",
            "|Casablanca                                                                                      |en             |8.856334        |\n",
            "|Rear Window                                                                                     |en             |8.853           |\n",
            "|The Silence of the Lambs                                                                        |en             |8.848           |\n",
            "|Psycho                                                                                          |en             |8.845           |\n",
            "|Schweigen ist Gold                                                                              |en             |8.841           |\n",
            "|WSU Queen & King Of The Ring                                                                    |en             |8.835333        |\n",
            "|Nova Express                                                                                    |en             |8.833333        |\n",
            "|Das Double 1977/78 – Eine Zeitreise mit dem 1. FC Köln                                          |ja             |8.833333        |\n",
            "|Apocalypse Now                                                                                  |en             |8.828333        |\n",
            "|City Lights                                                                                     |en             |8.8133335       |\n",
            "|The Rapture                                                                                     |en             |8.803           |\n",
            "|Wild 7: Biker Knights                                                                           |en             |8.781           |\n",
            "|Coco                                                                                            |en             |8.766666        |\n",
            "|Gorosthane Sabdhan                                                                              |it             |8.766666        |\n",
            "|Magic Store                                                                                     |en             |8.761           |\n",
            "|Celia                                                                                           |en             |8.755           |\n",
            "|It's a Wonderful Life                                                                           |en             |8.7543335       |\n",
            "|All About Eve                                                                                   |en             |8.751333        |\n",
            "|Precure All Stars Movie: Everybody Sing! Miraculous Magic!                                      |en             |8.740666        |\n",
            "|A Good Marriage                                                                                 |de             |8.733334        |\n",
            "|Double Indemnity                                                                                |en             |8.716           |\n",
            "|Taxi Driver                                                                                     |en             |8.7             |\n",
            "|The 42nd Street Special                                                                         |en             |8.689333        |\n",
            "|The Lion King                                                                                   |en             |8.685333        |\n",
            "|The Third Man                                                                                   |en             |8.666667        |\n",
            "|Rocky                                                                                           |ta             |8.666667        |\n",
            "|Isle of Flowers                                                                                 |en             |8.662666        |\n",
            "|On the Waterfront                                                                               |en             |8.658667        |\n",
            "|Up                                                                                              |en             |8.647333        |\n",
            "|Chinatown                                                                                       |en             |8.641334        |\n",
            "|Code Name: Emerald                                                                              |en             |8.633333        |\n",
            "|It Happened One Night                                                                           |en             |8.633333        |\n",
            "|Moody Beach                                                                                     |en             |8.633333        |\n",
            "|The Beloved                                                                                     |en             |8.633333        |\n",
            "|Vertigo                                                                                         |en             |8.631667        |\n",
            "|A Geni and a Genius (Series 1)                                                                  |ja             |8.619333        |\n",
            "|Neelagiri Express                                                                               |en             |8.607667        |\n",
            "|Angelique and the King                                                                          |en             |8.6             |\n",
            "|Hiwwe wie Driwwe - Pfälzisch in Amerika                                                         |en             |8.6             |\n",
            "|La canzone del cuore                                                                            |en             |8.6             |\n",
            "|Magnificent Wanderers                                                                           |en             |8.6             |\n",
            "|The Wizard of Oz                                                                                |en             |8.6             |\n",
            "|Dinosaur Train: Adventure Island                                                                |en             |8.597           |\n",
            "|Oh! Oh! Cleopatra                                                                               |en             |8.587           |\n",
            "|Whistling after Dark                                                                            |en             |8.568334        |\n",
            "|Face of Terror                                                                                  |en             |8.566667        |\n",
            "|Rio Bravo                                                                                       |en             |8.566667        |\n",
            "|Some Like It Hot                                                                                |en             |8.566667        |\n",
            "|To Be or Not to Be                                                                              |en             |8.566667        |\n",
            "|Unforgiven                                                                                      |en             |8.566667        |\n",
            "|Lawrence of Arabia                                                                              |en             |8.559334        |\n",
            "|Spotlight                                                                                       |en             |8.537666        |\n",
            "|Eternal Sunshine of the Spotless Mind                                                           |en             |8.533667        |\n",
            "|2001: A Space Odyssey                                                                           |en             |8.533334        |\n",
            "|Amadeus                                                                                         |en             |8.533334        |\n",
            "|Just Like Dad                                                                                   |en             |8.533334        |\n",
            "|River Guard                                                                                     |en             |8.533334        |\n",
            "|The Sleeping Beauty On Ice                                                                      |en             |8.533334        |\n",
            "|Hiwwe wie Driwwe - Pfälzisch in Amerika                                                         |it             |8.533334        |\n",
            "|12 Years a Slave                                                                                |en             |8.516334        |\n",
            "|An Affair: Kind Daughters-in-law 2                                                              |en             |8.515333        |\n",
            "|Monsters, Inc.                                                                                  |en             |8.510333        |\n",
            "|Marshal Tito's Spirit                                                                           |en             |8.506667        |\n",
            "|Persepolis                                                                                      |fr             |8.505           |\n",
            "|Atomic Heart Mother                                                                             |en             |8.5             |\n",
            "|La viuda negra                                                                                  |en             |8.5             |\n",
            "|Mary and Max                                                                                    |en             |8.5             |\n",
            "|Padai Veetu Amman                                                                               |en             |8.5             |\n",
            "|The Wrong Real Estate Agent                                                                     |en             |8.5             |\n",
            "|Jaws                                                                                            |en             |8.484667        |\n",
            "|Ctrl+Alt+Dance                                                                                  |en             |8.484333        |\n",
            "|Pulikkuthi Pandi                                                                                |es             |8.484333        |\n",
            "|Rosemary's Baby                                                                                 |en             |8.473           |\n",
            "|3/3                                                                                             |en             |8.466666        |\n",
            "|Ancien and the Magic Tablet: Another Story                                                      |en             |8.466666        |\n",
            "|Extreme Fairy Tales                                                                             |en             |8.466666        |\n",
            "|In a Lonely Place                                                                               |en             |8.466666        |\n",
            "|My life is a movie                                                                              |en             |8.466666        |\n",
            "|T2: Reprogramming The Terminator                                                                |en             |8.466666        |\n",
            "|The Incredibles                                                                                 |en             |8.466666        |\n",
            "|The Night of the Hunter                                                                         |en             |8.466666        |\n",
            "|Rocky                                                                                           |hi             |8.466666        |\n",
            "|Ratatouille                                                                                     |en             |8.464666        |\n",
            "|Mad Max: Fury Road                                                                              |en             |8.458333        |\n",
            "|Juifs de Russie                                                                                 |en             |8.446333        |\n",
            "|No Country for Old Men                                                                          |en             |8.444333        |\n",
            "|Logan                                                                                           |en             |8.4383335       |\n",
            "|The Well-Placed Weed: The Bountiful Life of Ryan Gainey                                         |en             |8.434334        |\n",
            "|A Second Chance: Rivals!                                                                        |en             |8.433333        |\n",
            "|Before Sunset                                                                                   |en             |8.433333        |\n",
            "|Bergenstoget plyndret i natt                                                                    |en             |8.433333        |\n",
            "|Congolaise                                                                                      |en             |8.433333        |\n",
            "|Hunt for the Wilderpeople                                                                       |en             |8.433333        |\n",
            "|Krauses Glück                                                                                   |en             |8.433333        |\n",
            "|Screen Goddesses                                                                                |en             |8.433333        |\n",
            "|That Movement Which I Love So Much                                                              |en             |8.433333        |\n",
            "|The Hustler                                                                                     |en             |8.433333        |\n",
            "|The Lost Weekend                                                                                |en             |8.433333        |\n",
            "|The Thin Man                                                                                    |en             |8.433333        |\n",
            "|Touch of Evil                                                                                   |en             |8.433333        |\n",
            "|UFC 174: Johnson vs. Bagautinov                                                                 |en             |8.433333        |\n",
            "|Young Frankenstein                                                                              |en             |8.433333        |\n",
            "|Notorious                                                                                       |en             |8.427667        |\n",
            "|Her                                                                                             |en             |8.420667        |\n",
            "|Gypsy Vampire                                                                                   |en             |8.415667        |\n",
            "|What Ever Happened to Baby Jane?                                                                |en             |8.4123335       |\n",
            "|Errol Spence Jr.  vs. Yordenis Ugas                                                             |en             |8.411           |\n",
            "|Jurassic Park                                                                                   |en             |8.410666        |\n",
            "|Freaks                                                                                          |en             |8.408334        |\n",
            "|Paddington 2                                                                                    |en             |8.4             |\n",
            "|Radical Grace                                                                                   |en             |8.4             |\n",
            "|The Manchurian Candidate                                                                        |en             |8.4             |\n",
            "|The Straight Story                                                                              |en             |8.4             |\n",
            "|The Wrestler                                                                                    |en             |8.4             |\n",
            "|City Lights                                                                                     |hi             |8.4             |\n",
            "|Giro di giostra                                                                                 |en             |8.395333        |\n",
            "|We're Gonna Die                                                                                 |en             |8.387           |\n",
            "|Hidden Figures                                                                                  |en             |8.385333        |\n",
            "|Nothing to Lose                                                                                 |en             |8.385           |\n",
            "|Jigsaw                                                                                          |en             |8.381667        |\n",
            "|Beauty and the Beast                                                                            |en             |8.377334        |\n",
            "|Get Out                                                                                         |en             |8.371667        |\n",
            "|My Father's Will                                                                                |en             |8.370334        |\n",
            "|Welcome to the Jungle                                                                           |en             |8.368           |\n",
            "|Psycho                                                                                          |ar             |8.366667        |\n",
            "|3 Minutes of Silence                                                                            |en             |8.366667        |\n",
            "|A Night at the Opera                                                                            |en             |8.366667        |\n",
            "|Cabaret                                                                                         |en             |8.366667        |\n",
            "|David Bisbal - Premonicion Live                                                                 |en             |8.366667        |\n",
            "|High Noon                                                                                       |en             |8.366667        |\n",
            "|Los Natas: Much Sessions                                                                        |en             |8.366667        |\n",
            "|The Lady Vanishes                                                                               |en             |8.366667        |\n",
            "|A Good Marriage                                                                                 |ja             |8.366667        |\n",
            "|Didi, the Treasure Raider                                                                       |en             |8.365666        |\n",
            "|Огонек                                                                                          |en             |8.364333        |\n",
            "|Marriage Story                                                                                  |en             |8.352667        |\n",
            "|Toy Story 4                                                                                     |en             |8.345333        |\n",
            "|Der schwarze Mönch                                                                              |en             |8.334           |\n",
            "|The Conversation                                                                                |en             |8.333333        |\n",
            "|The Invisible Collection                                                                        |en             |8.333333        |\n",
            "|The Irishman                                                                                    |en             |8.333333        |\n",
            "|Amour                                                                                           |fr             |8.333333        |\n",
            "|Blazen tot honderd                                                                              |en             |8.329667        |\n",
            "|Fantastic Mr. Fox                                                                               |en             |8.329333        |\n",
            "|Rocky                                                                                           |en             |8.328667        |\n",
            "|Mary Poppins                                                                                    |en             |8.322667        |\n",
            "|Roma                                                                                            |es             |8.322333        |\n",
            "|The Murderer of the Night                                                                       |en             |8.311           |\n",
            "|Last Resort                                                                                     |en             |8.307           |\n",
            "|Who Framed Roger Rabbit                                                                         |en             |8.3046665       |\n",
            "|Fabric Cosmos                                                                                   |en             |8.301666        |\n",
            "|Casablanca                                                                                      |ar             |8.3             |\n",
            "|Beauty and the Beast                                                                            |cs             |8.3             |\n",
            "|Casino Royale                                                                                   |en             |8.3             |\n",
            "|Goldfinger                                                                                      |en             |8.3             |\n",
            "|JUNKZILLA                                                                                       |en             |8.3             |\n",
            "|My Fair Lady                                                                                    |en             |8.3             |\n",
            "|My Name Was Bette: The Life and Death of an Alcoholic                                           |en             |8.3             |\n",
            "|She Did That                                                                                    |en             |8.3             |\n",
            "|The Silent Lover                                                                                |en             |8.3             |\n",
            "|Vertigo                                                                                         |es             |8.3             |\n",
            "|No Turning Back                                                                                 |hi             |8.3             |\n",
            "|River Guard                                                                                     |ko             |8.3             |\n",
            "|Unforgiven                                                                                      |ru             |8.3             |\n",
            "|Some Like It Hot                                                                                |zh             |8.3             |\n",
            "|Beauty and the Beast                                                                            |fr             |8.293333        |\n",
            "|Shinobi no Mono 4: Siege                                                                        |en             |8.293           |\n",
            "|Son of Dinosaurs                                                                                |en             |8.286333        |\n",
            "|Wie der Hase läuft                                                                              |en             |8.277333        |\n",
            "|The Little Monster                                                                              |en             |8.271334        |\n",
            "|A Hard Day's Night                                                                              |en             |8.266666        |\n",
            "|Bringing Up Baby                                                                                |en             |8.266666        |\n",
            "|Dawn of the Dead                                                                                |en             |8.266666        |\n",
            "|Peeping Tom                                                                                     |en             |8.266666        |\n",
            "|The French Connection                                                                           |en             |8.266666        |\n",
            "|The Martian                                                                                     |en             |8.266666        |\n",
            "|The Artist                                                                                      |fr             |8.266666        |\n",
            "|The Birds Are Coming                                                                            |hi             |8.266666        |\n",
            "|Unforgiven                                                                                      |ja             |8.266666        |\n",
            "|Suddenly Blank                                                                                  |en             |8.262667        |\n",
            "|Za rok, za dzień, za chwilę...                                                                  |en             |8.2543335       |\n",
            "|Ten Months                                                                                      |en             |8.254           |\n",
            "|Star Trek                                                                                       |en             |8.244667        |\n",
            "|Vertigo                                                                                         |cs             |8.233334        |\n",
            "|Boku wa benkyo ga dekinai                                                                       |en             |8.233334        |\n",
            "|Hands of Steel                                                                                  |en             |8.233334        |\n",
            "|Jinxed!                                                                                         |en             |8.233334        |\n",
            "|Gone Girl                                                                                       |en             |8.230667        |\n",
            "|Smølferne 18 - Frem og tilbage                                                                  |en             |8.227333        |\n",
            "|Airplane!                                                                                       |en             |8.226334        |\n",
            "|Moana                                                                                           |en             |8.221666        |\n",
            "|Shaun of the Dead                                                                               |en             |8.211333        |\n",
            "|Hell or High Water                                                                              |en             |8.201667        |\n",
            "|Alone at My Wedding                                                                             |en             |8.2             |\n",
            "|Fantasia                                                                                        |en             |8.2             |\n",
            "|Impotent                                                                                        |en             |8.2             |\n",
            "|Kylkiäinen                                                                                      |en             |8.2             |\n",
            "|Searching                                                                                       |en             |8.2             |\n",
            "|The 39 Steps                                                                                    |en             |8.2             |\n",
            "|The African Queen                                                                               |en             |8.2             |\n",
            "|The Film of Her                                                                                 |en             |8.2             |\n",
            "|The Wild Bunch                                                                                  |en             |8.2             |\n",
            "|Flag Director's Edition: Issenman no Kufura no Kiroku                                           |en             |8.196667        |\n",
            "|Puente Llaguno: Claves de una masacre                                                           |en             |8.184           |\n",
            "|Viking: The Berserkers                                                                          |en             |8.180333        |\n",
            "|Midnight in Paris                                                                               |en             |8.18            |\n",
            "|Butch Cassidy and the Sundance Kid                                                              |en             |8.170667        |\n",
            "|Creed                                                                                           |en             |8.168333        |\n",
            "|Road to La Paz                                                                                  |en             |8.166667        |\n",
            "|The Peanut Butter Falcon                                                                        |en             |8.166667        |\n",
            "|Roma                                                                                            |it             |8.166667        |\n",
            "|Zwei Weihnachtsmänner                                                                           |en             |8.157666        |\n",
            "|Beatsteaks - Kanonen auf Spatzen                                                                |en             |8.156667        |\n",
            "|Liberdade                                                                                       |en             |8.153334        |\n",
            "|Dunkirk                                                                                         |en             |8.153           |\n",
            "|Too Much (Little) Love                                                                          |en             |8.133333        |\n",
            "|X-Men: Days of Future Past                                                                      |en             |8.133333        |\n",
            "|Hedwig and the Angry Inch                                                                       |en             |8.131667        |\n",
            "|Incredibles 2                                                                                   |en             |8.130333        |\n",
            "|National Theatre Live: Of Mice and Men                                                          |en             |8.124666        |\n",
            "|Blade Runner 2049                                                                               |en             |8.108334        |\n",
            "|Harry Potter and the Goblet of Fire                                                             |en             |8.105667        |\n",
            "|Mercy                                                                                           |en             |8.105333        |\n",
            "|Giant                                                                                           |en             |8.1             |\n",
            "|Gilda                                                                                           |en             |8.1             |\n",
            "|Serenata en México                                                                              |en             |8.1             |\n",
            "|The Legend of the Purple Hairpin                                                                |en             |8.1             |\n",
            "|Hiwwe wie Driwwe - Pfälzisch in Amerika                                                         |fr             |8.1             |\n",
            "|CantaJuego 8                                                                                    |ru             |8.1             |\n",
            "|Bette Davis - Größer als das Leben                                                              |en             |8.098666        |\n",
            "|The Jungle Book                                                                                 |en             |8.094           |\n",
            "|My Father's Will                                                                                |ja             |8.089           |\n",
            "|Baby Driver                                                                                     |en             |8.085333        |\n",
            "|The Film of Her                                                                                 |fr             |8.081667        |\n",
            "|Dragon Gate USA: Uprising                                                                       |en             |8.081           |\n",
            "|The Film of Her                                                                                 |no             |8.076           |\n",
            "|CantaJuego 8                                                                                    |en             |8.066667        |\n",
            "|Dragon Tiger Gate                                                                               |en             |8.066667        |\n",
            "|Wüstenkrieg: Islamisten in der Sahara                                                           |en             |8.066667        |\n",
            "|Sicario                                                                                         |en             |8.059667        |\n",
            "|In the Line of Duty 4                                                                           |en             |8.039667        |\n",
            "|The Quiet Man                                                                                   |en             |8.033334        |\n",
            "|Fantasia                                                                                        |zh             |8.033334        |\n",
            "|Ring of Darkness                                                                                |en             |8.010333        |\n",
            "|Beauty and the Beast                                                                            |it             |8.008333        |\n",
            "|Nova Express                                                                                    |sv             |8.0             |\n",
            "|Angelique and the King                                                                          |ko             |7.975           |\n",
            "|Taxi Driver                                                                                     |el             |7.9666667       |\n",
            "|Jungle Book                                                                                     |en             |7.9666667       |\n",
            "|La SNCF sous l'Occupation                                                                       |en             |7.9666667       |\n",
            "|ROH: Joe vs Kobashi                                                                             |en             |7.9666667       |\n",
            "|Moana                                                                                           |it             |7.9666667       |\n",
            "|Bridge of Spies                                                                                 |en             |7.9413333       |\n",
            "|丈母娘来了                                                                                      |en             |7.9333334       |\n",
            "|A Night at the Opera                                                                            |fr             |7.9333334       |\n",
            "|Oh! Oh! Cleopatra                                                                               |th             |7.9333334       |\n",
            "|Cadrage/débordement                                                                             |en             |7.931           |\n",
            "|Zombieland                                                                                      |en             |7.9206667       |\n",
            "|The Murderer is in the House                                                                    |en             |7.9076667       |\n",
            "|CantaJuego 8                                                                                    |cs             |7.9             |\n",
            "|Flag Director's Edition: Issenman no Kufura no Kiroku                                           |de             |7.9             |\n",
            "|Code Name: Emerald                                                                              |es             |7.9             |\n",
            "|The Wrestler                                                                                    |fi             |7.9             |\n",
            "|Jinxed!                                                                                         |ja             |7.9             |\n",
            "|Beauty and the Beast                                                                            |da             |7.866667        |\n",
            "|Inside Out                                                                                      |pt             |7.866667        |\n",
            "|Liberdade                                                                                       |tl             |7.866667        |\n",
            "|Oh! Oh! Cleopatra                                                                               |zh             |7.866667        |\n",
            "|Jersey                                                                                          |en             |7.8646665       |\n",
            "|Vertigo                                                                                         |ko             |7.844333        |\n",
            "|It's a Wonderful Life                                                                           |cn             |7.8333335       |\n",
            "|The Artist                                                                                      |es             |7.8333335       |\n",
            "|To Be or Not to Be                                                                              |fa             |7.8333335       |\n",
            "|Get Out                                                                                         |fr             |7.8             |\n",
            "|Son of Dinosaurs                                                                                |zh             |7.8             |\n",
            "|Death Valley                                                                                    |en             |7.766667        |\n",
            "|Peeping Tom                                                                                     |ja             |7.766667        |\n",
            "|She Did That                                                                                    |zh             |7.766667        |\n",
            "|Giant                                                                                           |eu             |7.761           |\n",
            "|That Movement Which I Love So Much                                                              |el             |7.733333        |\n",
            "|Son of Dinosaurs                                                                                |id             |7.733333        |\n",
            "|Midnight in Paris                                                                               |fr             |7.7             |\n",
            "|Sicario                                                                                         |es             |7.6666665       |\n",
            "|The Jungle Book                                                                                 |ja             |7.6666665       |\n",
            "|Psycho                                                                                          |ta             |7.6666665       |\n",
            "|The Wrestler                                                                                    |tr             |7.6666665       |\n",
            "|In the Best Interests of the Children                                                           |en             |7.648           |\n",
            "|Taxi Driver                                                                                     |hi             |7.633333        |\n",
            "|Jigsaw                                                                                          |it             |7.633333        |\n",
            "|Cabaret                                                                                         |ru             |7.633333        |\n",
            "|UFC 174: Johnson vs. Bagautinov                                                                 |ml             |7.619           |\n",
            "|Akira Jimbo: Wasabi                                                                             |en             |7.601333        |\n",
            "|Shinobi no Mono 4: Siege                                                                        |hi             |7.6             |\n",
            "|Amour                                                                                           |da             |7.5666666       |\n",
            "|Fantasia                                                                                        |cn             |7.5333333       |\n",
            "|The Legend of the Purple Hairpin                                                                |fr             |7.5             |\n",
            "|Up                                                                                              |fr             |7.5             |\n",
            "|Coco                                                                                            |fr             |7.4666667       |\n",
            "|Jinxed!                                                                                         |hi             |7.4666667       |\n",
            "|Son of Dinosaurs                                                                                |sl             |7.4666667       |\n",
            "|Searching                                                                                       |cs             |7.4             |\n",
            "|The Wrestler                                                                                    |nl             |7.4             |\n",
            "|The Film of Her                                                                                 |es             |7.366667        |\n",
            "|Marriage Story                                                                                  |ko             |7.366667        |\n",
            "|Psycho                                                                                          |ru             |7.366667        |\n",
            "|Dead Man                                                                                        |en             |7.3333335       |\n",
            "|Liberdade                                                                                       |hu             |7.3333335       |\n",
            "|Io, nel gioco delle seduzioni                                                                   |en             |7.3             |\n",
            "|The Sandlot                                                                                     |en             |7.233333        |\n",
            "|Overkill: Live in Overhausen                                                                    |en             |7.2             |\n",
            "|Dragon Tiger Gate                                                                               |cs             |6.9666667       |\n",
            "|Taxi Driver                                                                                     |tr             |6.9666667       |\n",
            "|Studie jednoho strachu                                                                          |en             |6.937333        |\n",
            "|Wild 7: Biker Knights                                                                           |ko             |6.733333        |\n",
            "|Ctrl+Alt+Dance                                                                                  |pl             |6.5333333       |\n",
            "|Studie jednoho strachu                                                                          |ro             |6.5333333       |\n",
            "|Rebecca                                                                                         |de             |6.366667        |\n",
            "|The Extra Arrives on the Second Path                                                            |en             |6.3333335       |\n",
            "|Back to the Secret Garden                                                                       |en             |5.8223333       |\n",
            "|La Confession d'un enfant du siècle                                                             |ru             |5.8             |\n",
            "|Vidas Estranhas                                                                                 |en             |5.7553334       |\n",
            "|The Gold Rush                                                                                   |en             |5.7433333       |\n",
            "|The Treasure of the Sierra Madre                                                                |en             |5.733333        |\n",
            "|You Will Be Fine                                                                                |en             |5.6883335       |\n",
            "|Rebecca                                                                                         |en             |5.6703334       |\n",
            "|Anatomy of a Murder                                                                             |en             |5.617           |\n",
            "|Cool Hand Luke                                                                                  |en             |5.6             |\n",
            "|Kinsenas, Katapusan                                                                             |en             |5.6             |\n",
            "|Do Not Be Deceived                                                                              |en             |5.5666666       |\n",
            "|Kind Hearts and Coronets                                                                        |en             |5.5666666       |\n",
            "|The Maltese Falcon                                                                              |en             |5.5666666       |\n",
            "|The Philadelphia Story                                                                          |en             |5.5333333       |\n",
            "|The Terminator                                                                                  |en             |5.5333333       |\n",
            "|T.V. Fuddlehead                                                                                 |en             |5.5             |\n",
            "|Toy Story 2                                                                                     |en             |5.4943333       |\n",
            "|\"Live in Front of a Studio Audience: Norman Lear's \"\"All in the Family\"\" and \"\"The Jeffersons\"\"\"|en             |5.4666667       |\n",
            "|Les singes qui voulaient voir la mer                                                            |en             |5.4333334       |\n",
            "|Shadow of a Doubt                                                                               |en             |5.4333334       |\n",
            "|Anaganaga Oka Ashokavanam                                                                       |en             |5.366667        |\n",
            "|You Will Be Fine                                                                                |tr             |5.366667        |\n",
            "|La Confession d'un enfant du siècle                                                             |fr             |5.0666666       |\n",
            "|La Confession d'un enfant du siècle                                                             |ko             |5.0666666       |\n",
            "|La Confession d'un enfant du siècle                                                             |en             |5.0333333       |\n",
            "|The Extra Arrives on the Second Path                                                            |pt             |4.6666665       |\n",
            "|The Extra Arrives on the Second Path                                                            |fr             |4.6             |\n",
            "+------------------------------------------------------------------------------------------------+---------------+----------------+\n",
            "\n"
          ]
        },
        {
          "output_type": "display_data",
          "data": {
            "text/plain": [
              "None"
            ]
          },
          "metadata": {}
        }
      ]
    },
    {
      "cell_type": "code",
      "source": [
        "maior_nota_by_idioma = spark.sql(\"\"\"\n",
        " WITH RankedFilms AS (\n",
        "    SELECT\n",
        "        f.NOME,\n",
        "        i.LINGUA_ORIGINAL,\n",
        "        fh.nota_media_total,\n",
        "        ROW_NUMBER() OVER (PARTITION BY i.LINGUA_ORIGINAL ORDER BY fh.nota_media_total DESC) AS rnk\n",
        "    FROM\n",
        "        DIM_FILME f\n",
        "    JOIN\n",
        "        fatohive fh ON f.ID_FILME = fh.ID_FILME\n",
        "    JOIN\n",
        "        DIM_IDIOM i ON fh.ID_IDIOM = i.ID_IDIOM\n",
        ")\n",
        "\n",
        "SELECT\n",
        "    NOME,\n",
        "    LINGUA_ORIGINAL,\n",
        "    nota_media_total\n",
        "FROM\n",
        "    RankedFilms\n",
        "WHERE\n",
        "    rnk = 1;\n",
        "\"\"\")\n",
        "\n",
        "m = maior_nota_by_idioma.count()\n",
        "display(maior_nota_by_idioma.orderBy('nota_media_total', ascending=False).show(m, truncate=False))\n"
      ],
      "metadata": {
        "colab": {
          "base_uri": "https://localhost:8080/",
          "height": 694
        },
        "id": "mnPlXAzRhNZ5",
        "outputId": "1b81d88d-89bd-4b8c-f0ac-0cac88473e9c"
      },
      "execution_count": null,
      "outputs": [
        {
          "output_type": "stream",
          "name": "stdout",
          "text": [
            "+-------------------------------+---------------+----------------+\n",
            "|NOME                           |LINGUA_ORIGINAL|nota_media_total|\n",
            "+-------------------------------+---------------+----------------+\n",
            "|The Godfather                  |en             |9.203333        |\n",
            "|Amadeus                        |cs             |9.2             |\n",
            "|Her                            |sq             |9.133333        |\n",
            "|The Wizard of Oz               |ja             |8.933333        |\n",
            "|Vertigo                        |it             |8.9             |\n",
            "|A Good Marriage                |de             |8.733334        |\n",
            "|Rocky                          |ta             |8.666667        |\n",
            "|Persepolis                     |fr             |8.505           |\n",
            "|Pulikkuthi Pandi               |es             |8.484333        |\n",
            "|Rocky                          |hi             |8.466666        |\n",
            "|Psycho                         |ar             |8.366667        |\n",
            "|River Guard                    |ko             |8.3             |\n",
            "|Unforgiven                     |ru             |8.3             |\n",
            "|Some Like It Hot               |zh             |8.3             |\n",
            "|The Film of Her                |no             |8.076           |\n",
            "|Nova Express                   |sv             |8.0             |\n",
            "|Taxi Driver                    |el             |7.9666667       |\n",
            "|Oh! Oh! Cleopatra              |th             |7.9333334       |\n",
            "|The Wrestler                   |fi             |7.9             |\n",
            "|Beauty and the Beast           |da             |7.866667        |\n",
            "|Inside Out                     |pt             |7.866667        |\n",
            "|Liberdade                      |tl             |7.866667        |\n",
            "|It's a Wonderful Life          |cn             |7.8333335       |\n",
            "|To Be or Not to Be             |fa             |7.8333335       |\n",
            "|Giant                          |eu             |7.761           |\n",
            "|Son of Dinosaurs               |id             |7.733333        |\n",
            "|The Wrestler                   |tr             |7.6666665       |\n",
            "|UFC 174: Johnson vs. Bagautinov|ml             |7.619           |\n",
            "|Son of Dinosaurs               |sl             |7.4666667       |\n",
            "|The Wrestler                   |nl             |7.4             |\n",
            "|Liberdade                      |hu             |7.3333335       |\n",
            "|Ctrl+Alt+Dance                 |pl             |6.5333333       |\n",
            "|Studie jednoho strachu         |ro             |6.5333333       |\n",
            "+-------------------------------+---------------+----------------+\n",
            "\n"
          ]
        },
        {
          "output_type": "display_data",
          "data": {
            "text/plain": [
              "None"
            ]
          },
          "metadata": {}
        }
      ]
    },
    {
      "cell_type": "code",
      "source": [
        "name_fil = input(\"Enter the movie name: \")\n",
        "\n",
        "consulta_por_nome = spark.sql(f'''\n",
        "    SELECT\n",
        "        f.NOME,\n",
        "        i.LINGUA_ORIGINAL,\n",
        "        fh.nota_media_total\n",
        "    FROM\n",
        "        DIM_FILME f\n",
        "    JOIN\n",
        "        fatohive fh ON f.ID_FILME = fh.ID_FILME\n",
        "    JOIN\n",
        "        DIM_IDIOM i ON fh.ID_IDIOM = i.ID_IDIOM\n",
        "    WHERE\n",
        "        f.NOME = '{name_fil}';\n",
        "''')\n",
        "\n",
        "m = consulta_por_nome.count()\n",
        "consulta_por_nome.show(m, truncate=False)"
      ],
      "metadata": {
        "colab": {
          "base_uri": "https://localhost:8080/"
        },
        "id": "l64gVxf8yn_C",
        "outputId": "a2bf86f9-a0d0-430a-9cc8-a0583cfb4787"
      },
      "execution_count": null,
      "outputs": [
        {
          "output_type": "stream",
          "name": "stdout",
          "text": [
            "Enter the movie name: Her\n",
            "+----+---------------+----------------+\n",
            "|NOME|LINGUA_ORIGINAL|nota_media_total|\n",
            "+----+---------------+----------------+\n",
            "|Her |en             |8.420667        |\n",
            "|Her |sq             |9.133333        |\n",
            "+----+---------------+----------------+\n",
            "\n"
          ]
        }
      ]
    }
  ],
  "metadata": {
    "accelerator": "GPU",
    "colab": {
      "provenance": [],
      "toc_visible": true,
      "gpuType": "T4"
    },
    "kernelspec": {
      "display_name": "Python 3",
      "name": "python3"
    },
    "language_info": {
      "name": "python"
    }
  },
  "nbformat": 4,
  "nbformat_minor": 0
}